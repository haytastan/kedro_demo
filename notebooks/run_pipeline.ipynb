{
 "cells": [
  {
   "cell_type": "code",
   "execution_count": 6,
   "id": "d0dda8f5",
   "metadata": {
    "ExecuteTime": {
     "end_time": "2021-09-07T16:07:37.539761Z",
     "start_time": "2021-09-07T16:07:37.486208Z"
    }
   },
   "outputs": [
    {
     "name": "stdout",
     "output_type": "stream",
     "text": [
      "2021-09-07 11:07:37,488 - root - INFO - ** Kedro project iris\n",
      "2021-09-07 11:07:37,514 - kedro.io.data_catalog - INFO - Loading data from `raw_data` (CSVDataSet)...\n",
      "2021-09-07 11:07:37,524 - kedro.io.data_catalog - INFO - Loading data from `params:target_col` (MemoryDataSet)...\n",
      "2021-09-07 11:07:37,526 - kedro.pipeline.node - INFO - Running node: get_classes: get_classes([params:target_col,raw_data]) -> [classes]\n",
      "2021-09-07 11:07:37,528 - kedro.io.data_catalog - INFO - Saving data to `classes` (MemoryDataSet)...\n",
      "2021-09-07 11:07:37,531 - kedro.runner.sequential_runner - INFO - Completed 1 out of 1 tasks\n",
      "2021-09-07 11:07:37,532 - kedro.runner.sequential_runner - INFO - Pipeline execution completed successfully.\n",
      "2021-09-07 11:07:37,534 - kedro.io.data_catalog - INFO - Loading data from `classes` (MemoryDataSet)...\n"
     ]
    }
   ],
   "source": [
    "outputs = session.run(pipeline_name='de', to_nodes=['get_classes'])"
   ]
  },
  {
   "cell_type": "code",
   "execution_count": 7,
   "id": "287340e6",
   "metadata": {
    "ExecuteTime": {
     "end_time": "2021-09-07T16:07:38.738242Z",
     "start_time": "2021-09-07T16:07:38.729507Z"
    }
   },
   "outputs": [
    {
     "data": {
      "text/plain": [
       "{'classes': ['setosa', 'versicolor', 'virginica']}"
      ]
     },
     "execution_count": 7,
     "metadata": {},
     "output_type": "execute_result"
    }
   ],
   "source": [
    "outputs"
   ]
  }
 ],
 "metadata": {
  "kernelspec": {
   "display_name": "iris",
   "language": "python",
   "name": "python3"
  },
  "language_info": {
   "codemirror_mode": {
    "name": "ipython",
    "version": 3
   },
   "file_extension": ".py",
   "mimetype": "text/x-python",
   "name": "python",
   "nbconvert_exporter": "python",
   "pygments_lexer": "ipython3",
   "version": "3.8.10"
  },
  "toc": {
   "base_numbering": 1,
   "nav_menu": {},
   "number_sections": true,
   "sideBar": true,
   "skip_h1_title": false,
   "title_cell": "Table of Contents",
   "title_sidebar": "Contents",
   "toc_cell": false,
   "toc_position": {},
   "toc_section_display": true,
   "toc_window_display": false
  }
 },
 "nbformat": 4,
 "nbformat_minor": 5
}
